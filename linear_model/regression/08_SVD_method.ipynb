{
 "cells": [
  {
   "cell_type": "markdown",
   "id": "67f30bff",
   "metadata": {},
   "source": [
    "# Least Squares Optimization using SVD (Singular Value Decomposition)"
   ]
  },
  {
   "cell_type": "markdown",
   "id": "18ed3a2e",
   "metadata": {},
   "source": [
    "## 1. Data Generation"
   ]
  },
  {
   "cell_type": "code",
   "execution_count": null,
   "id": "2c29b87e",
   "metadata": {},
   "outputs": [
    {
     "data": {
      "text/html": [
       "<div>\n",
       "<style scoped>\n",
       "    .dataframe tbody tr th:only-of-type {\n",
       "        vertical-align: middle;\n",
       "    }\n",
       "\n",
       "    .dataframe tbody tr th {\n",
       "        vertical-align: top;\n",
       "    }\n",
       "\n",
       "    .dataframe thead th {\n",
       "        text-align: right;\n",
       "    }\n",
       "</style>\n",
       "<table border=\"1\" class=\"dataframe\">\n",
       "  <thead>\n",
       "    <tr style=\"text-align: right;\">\n",
       "      <th></th>\n",
       "      <th>x1</th>\n",
       "      <th>x2</th>\n",
       "      <th>y</th>\n",
       "    </tr>\n",
       "  </thead>\n",
       "  <tbody>\n",
       "    <tr>\n",
       "      <th>0</th>\n",
       "      <td>0.548814</td>\n",
       "      <td>0.715189</td>\n",
       "      <td>1.828725</td>\n",
       "    </tr>\n",
       "    <tr>\n",
       "      <th>1</th>\n",
       "      <td>0.602763</td>\n",
       "      <td>0.544883</td>\n",
       "      <td>2.110531</td>\n",
       "    </tr>\n",
       "    <tr>\n",
       "      <th>2</th>\n",
       "      <td>0.423655</td>\n",
       "      <td>0.645894</td>\n",
       "      <td>1.364429</td>\n",
       "    </tr>\n",
       "    <tr>\n",
       "      <th>3</th>\n",
       "      <td>0.437587</td>\n",
       "      <td>0.891773</td>\n",
       "      <td>0.985434</td>\n",
       "    </tr>\n",
       "    <tr>\n",
       "      <th>4</th>\n",
       "      <td>0.963663</td>\n",
       "      <td>0.383442</td>\n",
       "      <td>3.574302</td>\n",
       "    </tr>\n",
       "  </tbody>\n",
       "</table>\n",
       "</div>"
      ],
      "text/plain": [
       "         x1        x2         y\n",
       "0  0.548814  0.715189  1.828725\n",
       "1  0.602763  0.544883  2.110531\n",
       "2  0.423655  0.645894  1.364429\n",
       "3  0.437587  0.891773  0.985434\n",
       "4  0.963663  0.383442  3.574302"
      ]
     },
     "execution_count": 2,
     "metadata": {},
     "output_type": "execute_result"
    }
   ],
   "source": [
    "import numpy as np\n",
    "import pandas as pd\n",
    "\n",
    "np.random.seed(0)\n",
    "X = np.random.rand(100, 2)\n",
    "true_coef = np.array([3, -2])\n",
    "y = X @ true_coef + 1.5\n",
    "y += np.random.normal(0, 0.1, size=y.shape) # Adding noise\n",
    "\n",
    "data = pd.DataFrame(X, columns=[\"x1\", \"x2\"])\n",
    "data[\"y\"] = y\n",
    "data.head()"
   ]
  },
  {
   "cell_type": "markdown",
   "id": "fa007845",
   "metadata": {},
   "source": [
    "## 2. Adding bias column"
   ]
  },
  {
   "cell_type": "code",
   "execution_count": 4,
   "id": "a118fbc4",
   "metadata": {},
   "outputs": [],
   "source": [
    "X_b = np.hstack([X, np.ones((X.shape[0], 1))])"
   ]
  },
  {
   "cell_type": "code",
   "execution_count": null,
   "id": "bcb31e2d",
   "metadata": {},
   "outputs": [
    {
     "name": "stdout",
     "output_type": "stream",
     "text": [
      "X avec biais :\n",
      "[[0.5488135  0.71518937 1.        ]\n",
      " [0.60276338 0.54488318 1.        ]\n",
      " [0.4236548  0.64589411 1.        ]\n",
      " [0.43758721 0.891773   1.        ]\n",
      " [0.96366276 0.38344152 1.        ]]\n"
     ]
    }
   ],
   "source": [
    "print(\"X with bias :\")\n",
    "print(X_b[:5])"
   ]
  },
  {
   "cell_type": "markdown",
   "id": "1f207a72",
   "metadata": {},
   "source": [
    "## 3. Single Value Decomposition (SVD)"
   ]
  },
  {
   "cell_type": "markdown",
   "id": "bd0ca40c",
   "metadata": {},
   "source": [
    "We apply the SVD decomposition on X, then construct its pseudo-inverse to calculate:\n",
    "\n",
    "$X = U\\Sigma V^T$\n",
    "\n",
    "$\\theta = X^{+}y = V\\Sigma^{+}U^Ty$\n",
    "\n",
    "Where:\n",
    "\n",
    "- X is the input data matrix\n",
    "- U and V are orthogonal matrices from the SVD decomposition\n",
    "- Σ (Sigma) is the diagonal matrix of singular values\n",
    "- X+ is the pseudo-inverse of X\n",
    "- y is the target variable vector\n",
    "- θ (theta) represents the estimated parameters/coefficients"
   ]
  },
  {
   "cell_type": "code",
   "execution_count": 6,
   "id": "ffa1a31d",
   "metadata": {},
   "outputs": [],
   "source": [
    "# SVD\n",
    "U, S, Vt = np.linalg.svd(X_b, full_matrices=False)"
   ]
  },
  {
   "cell_type": "code",
   "execution_count": 7,
   "id": "9347574d",
   "metadata": {},
   "outputs": [
    {
     "name": "stdout",
     "output_type": "stream",
     "text": [
      "Pseudo-inverse of Sigma :\n",
      "[[0.08092231 0.         0.        ]\n",
      " [0.         0.34102468 0.        ]\n",
      " [0.         0.         0.45167006]]\n"
     ]
    }
   ],
   "source": [
    "# Pseudo-inverse of Sigma\n",
    "S_inv = np.diag(1 / S)\n",
    "print(f\"Pseudo-inverse of Sigma :\\n{S_inv}\")"
   ]
  },
  {
   "cell_type": "code",
   "execution_count": 8,
   "id": "80cb0308",
   "metadata": {},
   "outputs": [],
   "source": [
    "# Calculation of the pseudo-inverse of X\n",
    "X_pinv = Vt.T @ S_inv @ U.T"
   ]
  },
  {
   "cell_type": "code",
   "execution_count": 9,
   "id": "ffcafd8c",
   "metadata": {},
   "outputs": [
    {
     "data": {
      "text/plain": [
       "array([ 2.95737004, -1.99704249,  1.51145033])"
      ]
     },
     "execution_count": 9,
     "metadata": {},
     "output_type": "execute_result"
    }
   ],
   "source": [
    "# Coefs estimation\n",
    "theta_svd = X_pinv @ y\n",
    "theta_svd"
   ]
  },
  {
   "cell_type": "markdown",
   "id": "506e717b",
   "metadata": {},
   "source": [
    "## 4. Comparison with Linear Regression from scikit-learn"
   ]
  },
  {
   "cell_type": "code",
   "execution_count": 11,
   "id": "9d9562a3",
   "metadata": {},
   "outputs": [
    {
     "name": "stdout",
     "output_type": "stream",
     "text": [
      "Estimated Parameters (SVD)     : [ 2.95737004 -1.99704249  1.51145033]\n",
      "Estimated Parameters (sklearn) : [ 2.95737004 -1.99704249  1.51145033]\n",
      "Absolute Difference           : [4.44089210e-16 1.11022302e-15 6.66133815e-16]\n"
     ]
    }
   ],
   "source": [
    "from sklearn.linear_model import LinearRegression\n",
    "\n",
    "reg = LinearRegression(fit_intercept=True)\n",
    "reg.fit(X, y)\n",
    "\n",
    "theta_sklearn = np.append(reg.coef_, reg.intercept_)\n",
    "\n",
    "print(\"Estimated Parameters (SVD)     :\", theta_svd)\n",
    "print(\"Estimated Parameters (sklearn) :\", theta_sklearn)\n",
    "print(\"Absolute Difference           :\", np.abs(theta_svd - theta_sklearn))"
   ]
  }
 ],
 "metadata": {
  "kernelspec": {
   "display_name": "linear-model-py3.11",
   "language": "python",
   "name": "python3"
  },
  "language_info": {
   "codemirror_mode": {
    "name": "ipython",
    "version": 3
   },
   "file_extension": ".py",
   "mimetype": "text/x-python",
   "name": "python",
   "nbconvert_exporter": "python",
   "pygments_lexer": "ipython3",
   "version": "3.11.9"
  }
 },
 "nbformat": 4,
 "nbformat_minor": 5
}
